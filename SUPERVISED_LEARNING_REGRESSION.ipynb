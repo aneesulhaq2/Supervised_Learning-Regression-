{
  "cells": [
    {
      "cell_type": "markdown",
      "id": "df145c4c",
      "metadata": {
        "id": "df145c4c"
      },
      "source": [
        "## REGRESSION AND MACHINE LEARNING"
      ]
    },
    {
      "cell_type": "raw",
      "id": "a58cf2c5",
      "metadata": {
        "id": "a58cf2c5"
      },
      "source": [
        "Linear association(one variable can be written as linear combination of another variable) between two variables called correlation\n",
        "Example : X = a+bY\n",
        "          Y = a+Bx\n",
        "In correlation no dependent and independent variables X and Y are equal.\n",
        "Given values of X(Independent variables) we have to predict the average value of Y(Dependent variables) is called regression\n",
        "If two variables are correlated then only we can build regression.\n",
        "correlation can be seen in scatter plot and regression is a line on scatter plot so regression depends on correlation.\n",
        "The difference between correlation and regression is in the correlation A and Y are equal but in regression X is independent and Y is dependent.\n",
        "Regression tells us how to draw the straight line through the scatter plot described by the correlation between the two variables X and Y.\n",
        "    Straight line - linear regression\n",
        "    Curve - None linear regression (other than first degree)"
      ]
    },
    {
      "cell_type": "raw",
      "id": "849cd08c",
      "metadata": {
        "id": "849cd08c"
      },
      "source": [
        "TREES:\n",
        "Find the scatter plot to track the relation between height and grith\n",
        "(pending)"
      ]
    },
    {
      "cell_type": "raw",
      "id": "19365f80",
      "metadata": {
        "id": "19365f80"
      },
      "source": [
        "TYPES OF REGRESSION:\n",
        "    One independent variable - simple regression\n",
        "    More than one variable - multiple regression\n",
        "Regression models\n",
        "1. Simple regression\n",
        "    a. Linear\n",
        "    b. non linear\n",
        "2. Multiple regression\n",
        "    a. linear\n",
        "    b. non linear"
      ]
    },
    {
      "cell_type": "raw",
      "id": "014edcea",
      "metadata": {
        "id": "014edcea"
      },
      "source": [
        "PURPOSE OF REGRESSION:\n",
        "    1. EXPLANATION : R**2 (The simple the better), R lies between 0 and 1, The more towards one the more better, What     percentage of change in y is explained by x.\n",
        "    2. PRESICTION : RMSE(Residual mean square error) is the measure of predictability of a models)\n",
        "        MSE = 1/n * summation(y cap - y)**2\n",
        "        RMSE = sqrt(1/n * summation(y cap - y)**2)\n",
        "        lowest RMSE is better"
      ]
    },
    {
      "cell_type": "raw",
      "id": "6ce37cbc",
      "metadata": {
        "id": "6ce37cbc"
      },
      "source": [
        "library-Statsmodels"
      ]
    },
    {
      "cell_type": "code",
      "execution_count": null,
      "id": "b37da5db",
      "metadata": {
        "id": "b37da5db"
      },
      "outputs": [],
      "source": [
        "#pip install Statsmodels\n",
        "#Package: Statsmodels.api"
      ]
    },
    {
      "cell_type": "raw",
      "id": "81e5931c",
      "metadata": {
        "id": "81e5931c"
      },
      "source": [
        "The best fit - We try to minimise the deviations from the line\n",
        "Methods used to find the best line\n",
        "        1. OLS(ordinary least square)\n",
        "        2. MLE(maximum likelyhood estimator)\n",
        "        3. Gradient - Descent"
      ]
    },
    {
      "cell_type": "raw",
      "id": "c63b5e9e",
      "metadata": {
        "id": "c63b5e9e"
      },
      "source": [
        "ORDINARY LEAST SQUARES:\n",
        "    Y = a+bX+epcilon(E)\n",
        "E = anything other than X that is influencing the Y are grouped together as E\n",
        "Assumption of error\n",
        "    1. Errors are normally distributed. E~N(mu,sigma**2)\n",
        "    2. Errors are uncorrelated with independent variables Cor(Xi,E) = 0\n",
        "    3. Cor(Ei,E(i-1)) = 0  or Cor(Ei,E(i+1)) = 0"
      ]
    },
    {
      "cell_type": "raw",
      "id": "0795298e",
      "metadata": {
        "id": "0795298e"
      },
      "source": [
        "OTHER ASSUMPTIONS OF REGRESSION:\n",
        "    1.X and Y are linearly related\n",
        "    2.No hetroschedacity(Schedacity - variance, No constant variance)\n",
        "    3.No auto correlation\n",
        "For multiple linear regression models we have another assumptions\n",
        "No multi collinearity"
      ]
    },
    {
      "cell_type": "raw",
      "id": "3587126e",
      "metadata": {
        "id": "3587126e"
      },
      "source": [
        "ASSUMPTIONS OF CLASSICAL REGRESSION MODELS(both simple and multiple regression):\n",
        "    1.The regression model is linear, correctly specified, and has an additive error team(not for non-linear regression)\n",
        "    2.The error term has a zero population mean.\n",
        "    3.All the explanatory variables are uncorrelated with the error term\n",
        "    4.Observation of the error term are uncorrelated with each other(no serial correlation)\n",
        "    5.The error term has a constant variance\n",
        "    6.No explanatory varibale is a perfect linear function of any other explanatory variable(no perfect multi collinearity).\n",
        "    7.The erro term is normally distributed(not required)."
      ]
    },
    {
      "cell_type": "markdown",
      "id": "f8dd1d57",
      "metadata": {
        "id": "f8dd1d57"
      },
      "source": [
        "## SIMPLE LINEAR REGRESSION"
      ]
    },
    {
      "cell_type": "raw",
      "id": "f9f06fc4",
      "metadata": {
        "id": "f9f06fc4"
      },
      "source": [
        "1.Specification of model\n",
        "    y = a+bx+E\n",
        "In the above equation a is intercept, b is slope and E is the error term.\n",
        "2.Estimate y cap\n",
        "By finding out a, b\n",
        "3.Estimation method or Estimation algorithm\n",
        "Ordinary Least Square\n",
        "Regression metric for accuracy.\n",
        "a. R**2 (good if it's high),Square of perason correlation coefficient between independent and dependent variable, If the independent variables are more calculate partial correlation.\n",
        "b.Good if it's low\n",
        "   (i) MSE\n",
        "   (ii) RMSE = sqrt(MSE)"
      ]
    },
    {
      "cell_type": "markdown",
      "id": "780fa87e",
      "metadata": {
        "id": "780fa87e"
      },
      "source": [
        "### SLR WITH ADVERTISING DATA"
      ]
    },
    {
      "cell_type": "code",
      "execution_count": null,
      "id": "4105177c",
      "metadata": {
        "id": "4105177c"
      },
      "outputs": [],
      "source": [
        "import numpy as np, pandas as pd, seaborn as sns, matplotlib.pyplot as plt,statsmodels.api as sm"
      ]
    },
    {
      "cell_type": "code",
      "execution_count": null,
      "id": "13a8c03a",
      "metadata": {
        "id": "13a8c03a"
      },
      "outputs": [],
      "source": [
        "Data = pd.read_csv(r\"C:\\Users\\USER\\Downloads\\Advertising.csv\")"
      ]
    },
    {
      "cell_type": "code",
      "execution_count": null,
      "id": "4525eba7",
      "metadata": {
        "id": "4525eba7",
        "outputId": "c649d2fe-89c8-4c46-f5f2-9fa0ed35ea0c"
      },
      "outputs": [
        {
          "data": {
            "text/html": [
              "<div>\n",
              "<style scoped>\n",
              "    .dataframe tbody tr th:only-of-type {\n",
              "        vertical-align: middle;\n",
              "    }\n",
              "\n",
              "    .dataframe tbody tr th {\n",
              "        vertical-align: top;\n",
              "    }\n",
              "\n",
              "    .dataframe thead th {\n",
              "        text-align: right;\n",
              "    }\n",
              "</style>\n",
              "<table border=\"1\" class=\"dataframe\">\n",
              "  <thead>\n",
              "    <tr style=\"text-align: right;\">\n",
              "      <th></th>\n",
              "      <th>TV</th>\n",
              "      <th>Radio</th>\n",
              "      <th>Newspaper</th>\n",
              "      <th>Sales</th>\n",
              "    </tr>\n",
              "  </thead>\n",
              "  <tbody>\n",
              "    <tr>\n",
              "      <th>0</th>\n",
              "      <td>230.1</td>\n",
              "      <td>37.8</td>\n",
              "      <td>69.2</td>\n",
              "      <td>22.1</td>\n",
              "    </tr>\n",
              "    <tr>\n",
              "      <th>1</th>\n",
              "      <td>44.5</td>\n",
              "      <td>39.3</td>\n",
              "      <td>45.1</td>\n",
              "      <td>10.4</td>\n",
              "    </tr>\n",
              "    <tr>\n",
              "      <th>2</th>\n",
              "      <td>17.2</td>\n",
              "      <td>45.9</td>\n",
              "      <td>69.3</td>\n",
              "      <td>9.3</td>\n",
              "    </tr>\n",
              "    <tr>\n",
              "      <th>3</th>\n",
              "      <td>151.5</td>\n",
              "      <td>41.3</td>\n",
              "      <td>58.5</td>\n",
              "      <td>18.5</td>\n",
              "    </tr>\n",
              "    <tr>\n",
              "      <th>4</th>\n",
              "      <td>180.8</td>\n",
              "      <td>10.8</td>\n",
              "      <td>58.4</td>\n",
              "      <td>12.9</td>\n",
              "    </tr>\n",
              "  </tbody>\n",
              "</table>\n",
              "</div>"
            ],
            "text/plain": [
              "      TV  Radio  Newspaper  Sales\n",
              "0  230.1   37.8       69.2   22.1\n",
              "1   44.5   39.3       45.1   10.4\n",
              "2   17.2   45.9       69.3    9.3\n",
              "3  151.5   41.3       58.5   18.5\n",
              "4  180.8   10.8       58.4   12.9"
            ]
          },
          "execution_count": 4,
          "metadata": {},
          "output_type": "execute_result"
        }
      ],
      "source": [
        "Data.head()"
      ]
    },
    {
      "cell_type": "code",
      "execution_count": null,
      "id": "aea8ff7d",
      "metadata": {
        "id": "aea8ff7d",
        "outputId": "5390c292-a327-491d-ff8c-5fddace27539"
      },
      "outputs": [
        {
          "data": {
            "text/plain": [
              "(200, 4)"
            ]
          },
          "execution_count": 5,
          "metadata": {},
          "output_type": "execute_result"
        }
      ],
      "source": [
        "Data.shape"
      ]
    },
    {
      "cell_type": "code",
      "execution_count": null,
      "id": "f6d97cc1",
      "metadata": {
        "id": "f6d97cc1",
        "outputId": "19705903-6a68-4949-c2e4-51f123bbcb39"
      },
      "outputs": [
        {
          "name": "stdout",
          "output_type": "stream",
          "text": [
            "<class 'pandas.core.frame.DataFrame'>\n",
            "RangeIndex: 200 entries, 0 to 199\n",
            "Data columns (total 4 columns):\n",
            " #   Column     Non-Null Count  Dtype  \n",
            "---  ------     --------------  -----  \n",
            " 0   TV         200 non-null    float64\n",
            " 1   Radio      200 non-null    float64\n",
            " 2   Newspaper  200 non-null    float64\n",
            " 3   Sales      200 non-null    float64\n",
            "dtypes: float64(4)\n",
            "memory usage: 6.4 KB\n"
          ]
        }
      ],
      "source": [
        "Data.info()"
      ]
    },
    {
      "cell_type": "code",
      "execution_count": null,
      "id": "8758a763",
      "metadata": {
        "id": "8758a763",
        "outputId": "3f6169b1-410d-45be-fcc2-9e6b5d59f7b5"
      },
      "outputs": [
        {
          "data": {
            "text/html": [
              "<div>\n",
              "<style scoped>\n",
              "    .dataframe tbody tr th:only-of-type {\n",
              "        vertical-align: middle;\n",
              "    }\n",
              "\n",
              "    .dataframe tbody tr th {\n",
              "        vertical-align: top;\n",
              "    }\n",
              "\n",
              "    .dataframe thead th {\n",
              "        text-align: right;\n",
              "    }\n",
              "</style>\n",
              "<table border=\"1\" class=\"dataframe\">\n",
              "  <thead>\n",
              "    <tr style=\"text-align: right;\">\n",
              "      <th></th>\n",
              "      <th>TV</th>\n",
              "      <th>Radio</th>\n",
              "      <th>Newspaper</th>\n",
              "      <th>Sales</th>\n",
              "    </tr>\n",
              "  </thead>\n",
              "  <tbody>\n",
              "    <tr>\n",
              "      <th>count</th>\n",
              "      <td>200.000000</td>\n",
              "      <td>200.000000</td>\n",
              "      <td>200.000000</td>\n",
              "      <td>200.000000</td>\n",
              "    </tr>\n",
              "    <tr>\n",
              "      <th>mean</th>\n",
              "      <td>147.042500</td>\n",
              "      <td>23.264000</td>\n",
              "      <td>30.554000</td>\n",
              "      <td>14.022500</td>\n",
              "    </tr>\n",
              "    <tr>\n",
              "      <th>std</th>\n",
              "      <td>85.854236</td>\n",
              "      <td>14.846809</td>\n",
              "      <td>21.778621</td>\n",
              "      <td>5.217457</td>\n",
              "    </tr>\n",
              "    <tr>\n",
              "      <th>min</th>\n",
              "      <td>0.700000</td>\n",
              "      <td>0.000000</td>\n",
              "      <td>0.300000</td>\n",
              "      <td>1.600000</td>\n",
              "    </tr>\n",
              "    <tr>\n",
              "      <th>25%</th>\n",
              "      <td>74.375000</td>\n",
              "      <td>9.975000</td>\n",
              "      <td>12.750000</td>\n",
              "      <td>10.375000</td>\n",
              "    </tr>\n",
              "    <tr>\n",
              "      <th>50%</th>\n",
              "      <td>149.750000</td>\n",
              "      <td>22.900000</td>\n",
              "      <td>25.750000</td>\n",
              "      <td>12.900000</td>\n",
              "    </tr>\n",
              "    <tr>\n",
              "      <th>75%</th>\n",
              "      <td>218.825000</td>\n",
              "      <td>36.525000</td>\n",
              "      <td>45.100000</td>\n",
              "      <td>17.400000</td>\n",
              "    </tr>\n",
              "    <tr>\n",
              "      <th>max</th>\n",
              "      <td>296.400000</td>\n",
              "      <td>49.600000</td>\n",
              "      <td>114.000000</td>\n",
              "      <td>27.000000</td>\n",
              "    </tr>\n",
              "  </tbody>\n",
              "</table>\n",
              "</div>"
            ],
            "text/plain": [
              "               TV       Radio   Newspaper       Sales\n",
              "count  200.000000  200.000000  200.000000  200.000000\n",
              "mean   147.042500   23.264000   30.554000   14.022500\n",
              "std     85.854236   14.846809   21.778621    5.217457\n",
              "min      0.700000    0.000000    0.300000    1.600000\n",
              "25%     74.375000    9.975000   12.750000   10.375000\n",
              "50%    149.750000   22.900000   25.750000   12.900000\n",
              "75%    218.825000   36.525000   45.100000   17.400000\n",
              "max    296.400000   49.600000  114.000000   27.000000"
            ]
          },
          "execution_count": 7,
          "metadata": {},
          "output_type": "execute_result"
        }
      ],
      "source": [
        "Data.describe()"
      ]
    },
    {
      "cell_type": "markdown",
      "id": "3455296c",
      "metadata": {
        "id": "3455296c"
      },
      "source": [
        "### MODEL TO BE ESTIMATED : SALES = a+b(TV)"
      ]
    },
    {
      "cell_type": "raw",
      "id": "6d8912aa",
      "metadata": {
        "id": "6d8912aa"
      },
      "source": [
        "Algorithm:OLS"
      ]
    },
    {
      "cell_type": "markdown",
      "id": "bde983dd",
      "metadata": {
        "id": "bde983dd"
      },
      "source": [
        "### DATA PREPROCESSING"
      ]
    },
    {
      "cell_type": "raw",
      "id": "6756a6f0",
      "metadata": {
        "id": "6756a6f0"
      },
      "source": [
        "1. Missing values\n",
        "2. Duplicates\n",
        "3. Outliers"
      ]
    },
    {
      "cell_type": "code",
      "execution_count": null,
      "id": "f6f5b532",
      "metadata": {
        "id": "f6f5b532",
        "outputId": "70184550-b42f-41a1-dfdc-d3fcab093f8a"
      },
      "outputs": [
        {
          "data": {
            "text/plain": [
              "TV           0\n",
              "Radio        0\n",
              "Newspaper    0\n",
              "Sales        0\n",
              "dtype: int64"
            ]
          },
          "execution_count": 8,
          "metadata": {},
          "output_type": "execute_result"
        }
      ],
      "source": [
        "Data.isna().sum()"
      ]
    },
    {
      "cell_type": "code",
      "execution_count": null,
      "id": "00e08bef",
      "metadata": {
        "id": "00e08bef",
        "outputId": "b5f9014f-ba78-4e6d-bc47-3ecb1c2c5f19"
      },
      "outputs": [
        {
          "data": {
            "text/plain": [
              "0"
            ]
          },
          "execution_count": 9,
          "metadata": {},
          "output_type": "execute_result"
        }
      ],
      "source": [
        "Data.duplicated().sum()"
      ]
    },
    {
      "cell_type": "code",
      "execution_count": null,
      "id": "2e120ae0",
      "metadata": {
        "id": "2e120ae0",
        "outputId": "f4d69454-ff92-49ba-806f-04c276fe313d"
      },
      "outputs": [
        {
          "data": {
            "text/plain": [
              "<AxesSubplot:>"
            ]
          },
          "execution_count": 10,
          "metadata": {},
          "output_type": "execute_result"
        },
        {
          "data": {
            "image/png": "[encoded data removed]",
            "text/plain": [
              "<Figure size 432x288 with 1 Axes>"
            ]
          },
          "metadata": {
            "needs_background": "light"
          },
          "output_type": "display_data"
        }
      ],
      "source": [
        "Data.plot(kind = \"box\")"
      ]
    },
    {
      "cell_type": "raw",
      "id": "e2dfc7b0",
      "metadata": {
        "id": "e2dfc7b0"
      },
      "source": [
        "We observe no missing values, duplicates and outliers"
      ]
    },
    {
      "cell_type": "code",
      "execution_count": null,
      "id": "f107e382",
      "metadata": {
        "id": "f107e382"
      },
      "outputs": [],
      "source": [
        "x = Data['TV']"
      ]
    },
    {
      "cell_type": "code",
      "execution_count": null,
      "id": "8810da53",
      "metadata": {
        "id": "8810da53"
      },
      "outputs": [],
      "source": [
        "y = Data['Sales']"
      ]
    },
    {
      "cell_type": "code",
      "execution_count": null,
      "id": "a14d0959",
      "metadata": {
        "id": "a14d0959"
      },
      "outputs": [],
      "source": [
        "from sklearn.model_selection import train_test_split"
      ]
    },
    {
      "cell_type": "markdown",
      "id": "61413efa",
      "metadata": {
        "id": "61413efa"
      },
      "source": [
        "#### TRAIN-TEST-SPLIT OF X AND Y"
      ]
    },
    {
      "cell_type": "code",
      "execution_count": null,
      "id": "b1552d07",
      "metadata": {
        "id": "b1552d07"
      },
      "outputs": [],
      "source": [
        "X_train,X_test,y_train,y_test = train_test_split(x,y,test_size=0.3,random_state = 10)"
      ]
    },
    {
      "cell_type": "code",
      "execution_count": null,
      "id": "b674c99d",
      "metadata": {
        "id": "b674c99d",
        "outputId": "86047dd9-6337-407b-c143-4d660bc48585"
      },
      "outputs": [
        {
          "data": {
            "text/plain": [
              "((140,), (140,))"
            ]
          },
          "execution_count": 15,
          "metadata": {},
          "output_type": "execute_result"
        }
      ],
      "source": [
        "X_train.shape,y_train.shape"
      ]
    },
    {
      "cell_type": "code",
      "execution_count": null,
      "id": "efa1d057",
      "metadata": {
        "id": "efa1d057",
        "outputId": "fd7cf307-430f-46aa-f406-c2f4a0d5d04b"
      },
      "outputs": [
        {
          "data": {
            "text/plain": [
              "((60,), (60,))"
            ]
          },
          "execution_count": 16,
          "metadata": {},
          "output_type": "execute_result"
        }
      ],
      "source": [
        "X_test.shape,y_test.shape"
      ]
    },
    {
      "cell_type": "markdown",
      "id": "e110f346",
      "metadata": {
        "id": "e110f346"
      },
      "source": [
        "### Building the model using Statsmodels packages"
      ]
    },
    {
      "cell_type": "raw",
      "id": "e07471cd",
      "metadata": {
        "id": "e07471cd"
      },
      "source": [
        "First adding a constant to x variable i.e, TV\n",
        "In regression 'a' value is always given by the user, Then from the given 'a' value and the data values of independent and dependent variables slope is estimated."
      ]
    },
    {
      "cell_type": "code",
      "execution_count": null,
      "id": "bbce05fa",
      "metadata": {
        "id": "bbce05fa"
      },
      "outputs": [],
      "source": [
        "x = sm.add_constant(x)"
      ]
    },
    {
      "cell_type": "code",
      "execution_count": null,
      "id": "0f3f81f9",
      "metadata": {
        "id": "0f3f81f9",
        "outputId": "d91985d5-19b9-45e7-fa6e-3b548add508c"
      },
      "outputs": [
        {
          "data": {
            "text/html": [
              "<div>\n",
              "<style scoped>\n",
              "    .dataframe tbody tr th:only-of-type {\n",
              "        vertical-align: middle;\n",
              "    }\n",
              "\n",
              "    .dataframe tbody tr th {\n",
              "        vertical-align: top;\n",
              "    }\n",
              "\n",
              "    .dataframe thead th {\n",
              "        text-align: right;\n",
              "    }\n",
              "</style>\n",
              "<table border=\"1\" class=\"dataframe\">\n",
              "  <thead>\n",
              "    <tr style=\"text-align: right;\">\n",
              "      <th></th>\n",
              "      <th>const</th>\n",
              "      <th>TV</th>\n",
              "    </tr>\n",
              "  </thead>\n",
              "  <tbody>\n",
              "    <tr>\n",
              "      <th>0</th>\n",
              "      <td>1.0</td>\n",
              "      <td>230.1</td>\n",
              "    </tr>\n",
              "    <tr>\n",
              "      <th>1</th>\n",
              "      <td>1.0</td>\n",
              "      <td>44.5</td>\n",
              "    </tr>\n",
              "    <tr>\n",
              "      <th>2</th>\n",
              "      <td>1.0</td>\n",
              "      <td>17.2</td>\n",
              "    </tr>\n",
              "    <tr>\n",
              "      <th>3</th>\n",
              "      <td>1.0</td>\n",
              "      <td>151.5</td>\n",
              "    </tr>\n",
              "    <tr>\n",
              "      <th>4</th>\n",
              "      <td>1.0</td>\n",
              "      <td>180.8</td>\n",
              "    </tr>\n",
              "  </tbody>\n",
              "</table>\n",
              "</div>"
            ],
            "text/plain": [
              "   const     TV\n",
              "0    1.0  230.1\n",
              "1    1.0   44.5\n",
              "2    1.0   17.2\n",
              "3    1.0  151.5\n",
              "4    1.0  180.8"
            ]
          },
          "execution_count": 18,
          "metadata": {},
          "output_type": "execute_result"
        }
      ],
      "source": [
        "x.head()"
      ]
    },
    {
      "cell_type": "code",
      "execution_count": null,
      "id": "2c5347af",
      "metadata": {
        "id": "2c5347af"
      },
      "outputs": [],
      "source": [
        "mod = sm.OLS(y_train,X_train).fit()"
      ]
    },
    {
      "cell_type": "code",
      "execution_count": null,
      "id": "311334f1",
      "metadata": {
        "id": "311334f1",
        "outputId": "31141d4f-2aaa-45e2-f082-3ef5dfe275e7"
      },
      "outputs": [
        {
          "name": "stdout",
          "output_type": "stream",
          "text": [
            "                                 OLS Regression Results                                \n",
            "=======================================================================================\n",
            "Dep. Variable:                  Sales   R-squared (uncentered):                   0.897\n",
            "Model:                            OLS   Adj. R-squared (uncentered):              0.896\n",
            "Method:                 Least Squares   F-statistic:                              1210.\n",
            "Date:                Wed, 22 Dec 2021   Prob (F-statistic):                    1.79e-70\n",
            "Time:                        19:14:09   Log-Likelihood:                         -415.00\n",
            "No. Observations:                 140   AIC:                                      832.0\n",
            "Df Residuals:                     139   BIC:                                      834.9\n",
            "Df Model:                           1                                                  \n",
            "Covariance Type:            nonrobust                                                  \n",
            "==============================================================================\n",
            "                 coef    std err          t      P>|t|      [0.025      0.975]\n",
            "------------------------------------------------------------------------------\n",
            "TV             0.0831      0.002     34.788      0.000       0.078       0.088\n",
            "==============================================================================\n",
            "Omnibus:                        9.996   Durbin-Watson:                   1.905\n",
            "Prob(Omnibus):                  0.007   Jarque-Bera (JB):               10.439\n",
            "Skew:                          -0.636   Prob(JB):                      0.00541\n",
            "Kurtosis:                       2.584   Cond. No.                         1.00\n",
            "==============================================================================\n",
            "\n",
            "Notes:\n",
            "[1] R² is computed without centering (uncentered) since the model does not contain a constant.\n",
            "[2] Standard Errors assume that the covariance matrix of the errors is correctly specified.\n"
          ]
        }
      ],
      "source": [
        "print(mod.summary())"
      ]
    },
    {
      "cell_type": "raw",
      "id": "8ce8e479",
      "metadata": {
        "id": "8ce8e479"
      },
      "source": [
        "Durbin-Watson - Autocorrelation\n",
        "Jarque-Bera(JB),Shapiro Tests- Normality\n",
        "In JB test for normality\n",
        "H0 : Residuals are normal\n",
        "H1 : Residuals are not normal"
      ]
    },
    {
      "cell_type": "markdown",
      "id": "2bf408a9",
      "metadata": {
        "id": "2bf408a9"
      },
      "source": [
        "#### Sales = 1+0.0831(TV)"
      ]
    },
    {
      "cell_type": "markdown",
      "id": "914590bc",
      "metadata": {
        "id": "914590bc"
      },
      "source": [
        "### INTERPRETATION"
      ]
    },
    {
      "cell_type": "raw",
      "id": "f82cb794",
      "metadata": {
        "id": "f82cb794"
      },
      "source": [
        "If TV expenditure increases by Rs.100 ssales will increase by Rs.8"
      ]
    },
    {
      "cell_type": "markdown",
      "id": "87f7558f",
      "metadata": {
        "id": "87f7558f"
      },
      "source": [
        "### CHECKING REGRESSION ASSUMPTIONS"
      ]
    },
    {
      "cell_type": "markdown",
      "id": "3f4df303",
      "metadata": {
        "id": "3f4df303"
      },
      "source": [
        "#### 1. Normality of Residual or Error"
      ]
    },
    {
      "cell_type": "code",
      "execution_count": null,
      "id": "9a40e614",
      "metadata": {
        "id": "9a40e614",
        "outputId": "3a1141ef-228d-4f5d-afd5-c89f1feffc26"
      },
      "outputs": [
        {
          "data": {
            "text/plain": [
              "<AxesSubplot:ylabel='Density'>"
            ]
          },
          "execution_count": 21,
          "metadata": {},
          "output_type": "execute_result"
        },
        {
          "data": {
            "image/png": "[encoded data removed]",
            "text/plain": [
              "<Figure size 432x288 with 1 Axes>"
            ]
          },
          "metadata": {
            "needs_background": "light"
          },
          "output_type": "display_data"
        }
      ],
      "source": [
        "mod.resid.plot(kind = 'density')"
      ]
    },
    {
      "cell_type": "code",
      "execution_count": null,
      "id": "0902f10c",
      "metadata": {
        "id": "0902f10c",
        "outputId": "87c00717-312d-4f4d-e05e-66877fa12919"
      },
      "outputs": [
        {
          "data": {
            "text/plain": [
              "(-0.6425630954717791, -0.3875332641790381)"
            ]
          },
          "execution_count": 22,
          "metadata": {},
          "output_type": "execute_result"
        }
      ],
      "source": [
        "mod.resid.skew(),mod.resid.kurtosis() #Approximately normal"
      ]
    },
    {
      "cell_type": "raw",
      "id": "fa7ed29e",
      "metadata": {
        "id": "fa7ed29e"
      },
      "source": [
        "We observe that the residuals are approximately normal"
      ]
    },
    {
      "cell_type": "markdown",
      "id": "707b17b3",
      "metadata": {
        "id": "707b17b3"
      },
      "source": [
        "#### 2. Test for autocorrelation"
      ]
    },
    {
      "cell_type": "raw",
      "id": "41ec92a4",
      "metadata": {
        "id": "41ec92a4"
      },
      "source": [
        "Durbin watson Test\n",
        "Rule - (Dw - Durbin Watson Test Statistic value)\n",
        "Dw approximately 2 => No autocorrelation\n",
        "Dw < 2 => Positive\n",
        "Dw > 2 <= Negative\n",
        "from the summary the Durbin- Watson : 1.905 ~ 2\n",
        "Thefore there is no autocorrelation"
      ]
    },
    {
      "cell_type": "markdown",
      "id": "894523ec",
      "metadata": {
        "id": "894523ec"
      },
      "source": [
        "#### 3.Test for heteroscedacity"
      ]
    },
    {
      "cell_type": "raw",
      "id": "f7f08248",
      "metadata": {
        "id": "f7f08248"
      },
      "source": [
        "Goldfield - Quant Test\n",
        "The graph test (between X = error and Y = actual values of y), Graphical the relation between resudial and acutal values should not be in funnel shape\n",
        "If the Data point are Spread Randomly then there is homoscedacity\n",
        "Is the Points are in funnel shape then there is heteroscedacity"
      ]
    },
    {
      "cell_type": "markdown",
      "id": "4f899b81",
      "metadata": {
        "id": "4f899b81"
      },
      "source": [
        "#### Scatterplot of actuat values against residuals"
      ]
    },
    {
      "cell_type": "code",
      "execution_count": null,
      "id": "4824f5ca",
      "metadata": {
        "id": "4824f5ca",
        "outputId": "fac1f603-cf43-47ca-d25f-dd2113d9b084"
      },
      "outputs": [
        {
          "name": "stderr",
          "output_type": "stream",
          "text": [
            "C:\\Users\\USER\\anaconda3\\lib\\site-packages\\seaborn\\_decorators.py:36: FutureWarning: Pass the following variables as keyword args: x, y. From version 0.12, the only valid positional argument will be `data`, and passing other arguments without an explicit keyword will result in an error or misinterpretation.\n",
            "  warnings.warn(\n"
          ]
        },
        {
          "data": {
            "text/plain": [
              "<AxesSubplot:xlabel='Sales'>"
            ]
          },
          "execution_count": 23,
          "metadata": {},
          "output_type": "execute_result"
        },
        {
          "data": {
            "image/png": "[encoded data removed]",
            "text/plain": [
              "<Figure size 432x288 with 1 Axes>"
            ]
          },
          "metadata": {
            "needs_background": "light"
          },
          "output_type": "display_data"
        }
      ],
      "source": [
        "sns.scatterplot(y,mod.resid)"
      ]
    },
    {
      "cell_type": "raw",
      "id": "b4ccb376",
      "metadata": {
        "id": "b4ccb376"
      },
      "source": [
        "We don't find any funnel type pattren, therefore the data is in homoscedacity(Approximately)(no heteroscadacity)"
      ]
    },
    {
      "cell_type": "markdown",
      "id": "d7e77110",
      "metadata": {
        "id": "d7e77110"
      },
      "source": [
        "#### Checking for RMSE of the train model"
      ]
    },
    {
      "cell_type": "code",
      "execution_count": null,
      "id": "fccd3f76",
      "metadata": {
        "id": "fccd3f76"
      },
      "outputs": [],
      "source": [
        "from sklearn.metrics import mean_squared_error"
      ]
    },
    {
      "cell_type": "code",
      "execution_count": null,
      "id": "31f9b1c1",
      "metadata": {
        "id": "31f9b1c1"
      },
      "outputs": [],
      "source": [
        "Pred = mod.predict(X_train)"
      ]
    },
    {
      "cell_type": "code",
      "execution_count": null,
      "id": "89754584",
      "metadata": {
        "id": "89754584",
        "outputId": "d99bb4af-936a-4193-8e0b-9faaed348c28"
      },
      "outputs": [
        {
          "data": {
            "text/plain": [
              "4.689572310297024"
            ]
          },
          "execution_count": 26,
          "metadata": {},
          "output_type": "execute_result"
        }
      ],
      "source": [
        "np.sqrt(mean_squared_error(Pred,y_train))"
      ]
    },
    {
      "cell_type": "code",
      "execution_count": null,
      "id": "3bc698d9",
      "metadata": {
        "id": "3bc698d9"
      },
      "outputs": [],
      "source": [
        "Pred_test = mod.predict(X_test)"
      ]
    },
    {
      "cell_type": "code",
      "execution_count": null,
      "id": "dddf43a3",
      "metadata": {
        "id": "dddf43a3",
        "outputId": "4245e956-c5d4-4ba0-90b5-cf325b478af9"
      },
      "outputs": [
        {
          "data": {
            "text/plain": [
              "5.048262296057792"
            ]
          },
          "execution_count": 28,
          "metadata": {},
          "output_type": "execute_result"
        }
      ],
      "source": [
        "np.sqrt(mean_squared_error(Pred_test,y_test))"
      ]
    },
    {
      "cell_type": "raw",
      "id": "39b89e55",
      "metadata": {
        "id": "39b89e55"
      },
      "source": [
        "We conclude that the mdoel is slightly overfitted"
      ]
    },
    {
      "cell_type": "raw",
      "id": "f8539de0",
      "metadata": {
        "id": "f8539de0"
      },
      "source": [
        "when ever model overfits we use regularisations\n",
        "Two Types\n",
        "-> L1 = Lasso\n",
        "-> L2 = Ridge"
      ]
    },
    {
      "cell_type": "markdown",
      "id": "0702670c",
      "metadata": {
        "id": "0702670c"
      },
      "source": [
        "### MULTIPLE LINEAR REGRESSION MODEL"
      ]
    },
    {
      "cell_type": "raw",
      "id": "ae43c5d2",
      "metadata": {
        "id": "ae43c5d2"
      },
      "source": [
        "y = a+b1x1+b2x2+....+bnxn+E"
      ]
    },
    {
      "cell_type": "raw",
      "id": "43680b3a",
      "metadata": {
        "id": "43680b3a"
      },
      "source": [
        "OTHER ASSUMPTIONS OF REGRESSION:\n",
        "    1.X and Y are linearly related\n",
        "    2.No hetroschedacity(Schedacity - variance, No constant variance)\n",
        "    3.No auto correlation\n",
        "For multiple linear regression models we have another assumptions\n",
        "No multi collinearity"
      ]
    },
    {
      "cell_type": "raw",
      "id": "7bfafb32",
      "metadata": {
        "id": "7bfafb32"
      },
      "source": [
        "PROBLEM:\n",
        "    find a,b1,b2,...,bn\n",
        "    Minimization of RMSE\n",
        "OLS IS INEFFICIENT IN MULTIPLE LINEAR REGRESSION"
      ]
    },
    {
      "cell_type": "code",
      "execution_count": null,
      "id": "94e73809",
      "metadata": {
        "id": "94e73809",
        "outputId": "0c0e363d-f52e-4ae1-9cf7-bb7ddbe2c54b"
      },
      "outputs": [
        {
          "data": {
            "text/plain": [
              "TV           0\n",
              "Radio        0\n",
              "Newspaper    0\n",
              "Sales        0\n",
              "dtype: int64"
            ]
          },
          "execution_count": 29,
          "metadata": {},
          "output_type": "execute_result"
        }
      ],
      "source": [
        "Data.isnull().sum()"
      ]
    },
    {
      "cell_type": "code",
      "execution_count": null,
      "id": "83885eaf",
      "metadata": {
        "id": "83885eaf",
        "outputId": "5593f132-d983-4573-9bdb-f857e6f58a92"
      },
      "outputs": [
        {
          "data": {
            "text/plain": [
              "0"
            ]
          },
          "execution_count": 30,
          "metadata": {},
          "output_type": "execute_result"
        }
      ],
      "source": [
        "Data.duplicated().sum()"
      ]
    },
    {
      "cell_type": "code",
      "execution_count": null,
      "id": "d4da13c2",
      "metadata": {
        "id": "d4da13c2",
        "outputId": "a3d3927c-2308-4ebe-d547-f1ce64fd6f9f"
      },
      "outputs": [
        {
          "data": {
            "text/plain": [
              "<AxesSubplot:>"
            ]
          },
          "execution_count": 31,
          "metadata": {},
          "output_type": "execute_result"
        },
        {
          "data": {
            "image/png": "[encoded data removed]",
            "text/plain": [
              "<Figure size 432x288 with 1 Axes>"
            ]
          },
          "metadata": {
            "needs_background": "light"
          },
          "output_type": "display_data"
        }
      ],
      "source": [
        "Data.plot(kind = 'box')"
      ]
    },
    {
      "cell_type": "raw",
      "id": "109ffbda",
      "metadata": {
        "id": "109ffbda"
      },
      "source": [
        "Handling outliers value imputation by capping, flooring\n",
        "Substituting the outlier which are greater than P95 with the value of P95 (here P is Percentiles(data divided Into 100 parts)) is called capping\n",
        "Substituting the outlier which are lower than P5 with the value of P5 (here P is Percentiles(data divided Into 100 parts)) is called flooring"
      ]
    },
    {
      "cell_type": "code",
      "execution_count": null,
      "id": "6bfc4830",
      "metadata": {
        "id": "6bfc4830",
        "outputId": "77b42d77-40f5-4c96-94d7-3215878382ec"
      },
      "outputs": [
        {
          "data": {
            "text/plain": [
              "0.95    71.825\n",
              "Name: Newspaper, dtype: float64"
            ]
          },
          "execution_count": 32,
          "metadata": {},
          "output_type": "execute_result"
        }
      ],
      "source": [
        "Data['Newspaper'].quantile([0.95])"
      ]
    },
    {
      "cell_type": "code",
      "execution_count": null,
      "id": "5e4d4503",
      "metadata": {
        "id": "5e4d4503"
      },
      "outputs": [],
      "source": [
        "Data['Newspaper'] = np.where(Data['Newspaper']>71.825,72,Data['Newspaper'])"
      ]
    },
    {
      "cell_type": "code",
      "execution_count": null,
      "id": "a3a2531e",
      "metadata": {
        "id": "a3a2531e",
        "outputId": "8d5c582b-37a4-4fdf-a6f7-6dcd19200b49"
      },
      "outputs": [
        {
          "data": {
            "text/plain": [
              "<AxesSubplot:>"
            ]
          },
          "execution_count": 34,
          "metadata": {},
          "output_type": "execute_result"
        },
        {
          "data": {
            "image/png": "[encoded data removed]",
            "text/plain": [
              "<Figure size 432x288 with 1 Axes>"
            ]
          },
          "metadata": {
            "needs_background": "light"
          },
          "output_type": "display_data"
        }
      ],
      "source": [
        "Data['Newspaper'].plot(kind = 'box')"
      ]
    },
    {
      "cell_type": "raw",
      "id": "73e215d9",
      "metadata": {
        "id": "73e215d9"
      },
      "source": [
        "MULTICOLLINEARITY :\n",
        "    Extremly high correlation among independent variables ( r > 0.5)\n",
        "    (Search in google for more)"
      ]
    },
    {
      "cell_type": "raw",
      "id": "1d8bf526",
      "metadata": {
        "id": "1d8bf526"
      },
      "source": [
        "r(xy) -> Pearson\n",
        "ro(xy) -> Spearmen"
      ]
    },
    {
      "cell_type": "markdown",
      "id": "884d9301",
      "metadata": {
        "id": "884d9301"
      },
      "source": [
        "### HANDLING MULTICOLLINEARITY"
      ]
    },
    {
      "cell_type": "code",
      "execution_count": null,
      "id": "c974e4df",
      "metadata": {
        "id": "c974e4df",
        "outputId": "5315cf6f-0fb9-4022-f268-cb23dc653e09"
      },
      "outputs": [
        {
          "data": {
            "text/plain": [
              "<AxesSubplot:>"
            ]
          },
          "execution_count": 35,
          "metadata": {},
          "output_type": "execute_result"
        },
        {
          "data": {
            "image/png": "[encoded data removed]",
            "text/plain": [
              "<Figure size 432x288 with 2 Axes>"
            ]
          },
          "metadata": {
            "needs_background": "light"
          },
          "output_type": "display_data"
        }
      ],
      "source": [
        "sns.heatmap(Data.drop('Sales',axis = 1).corr(),annot = True)"
      ]
    },
    {
      "cell_type": "markdown",
      "id": "1f270a80",
      "metadata": {
        "id": "1f270a80"
      },
      "source": [
        "#### MODEL TO BE ESTIMATED: Sales = a+b1(TV)+b2(Radio)+b3(Newspaper)"
      ]
    },
    {
      "cell_type": "markdown",
      "id": "b03f0db3",
      "metadata": {
        "id": "b03f0db3"
      },
      "source": [
        "##### TRAIN TEST SPLIT"
      ]
    },
    {
      "cell_type": "code",
      "execution_count": null,
      "id": "cc865854",
      "metadata": {
        "id": "cc865854"
      },
      "outputs": [],
      "source": [
        "from sklearn.model_selection import train_test_split"
      ]
    },
    {
      "cell_type": "code",
      "execution_count": null,
      "id": "b24940bc",
      "metadata": {
        "id": "b24940bc"
      },
      "outputs": [],
      "source": [
        "X = Data.drop('Sales',axis = 1)"
      ]
    },
    {
      "cell_type": "code",
      "execution_count": null,
      "id": "274c8ff0",
      "metadata": {
        "id": "274c8ff0"
      },
      "outputs": [],
      "source": [
        "y = Data['Sales']"
      ]
    },
    {
      "cell_type": "code",
      "execution_count": null,
      "id": "ddc0702f",
      "metadata": {
        "id": "ddc0702f"
      },
      "outputs": [],
      "source": [
        "X_train,X_test,y_train,y_test = train_test_split(X,y,test_size = 0.3,random_state = 120)"
      ]
    },
    {
      "cell_type": "markdown",
      "id": "f3206a3a",
      "metadata": {
        "id": "f3206a3a"
      },
      "source": [
        "#### ADDING INTERCEPT TO X"
      ]
    },
    {
      "cell_type": "code",
      "execution_count": null,
      "id": "ec71f01b",
      "metadata": {
        "id": "ec71f01b"
      },
      "outputs": [],
      "source": [
        "X_train = sm.add_constant(X_train)"
      ]
    },
    {
      "cell_type": "code",
      "execution_count": null,
      "id": "6d492844",
      "metadata": {
        "id": "6d492844",
        "outputId": "47716f4e-e6d8-44e9-948b-fe54583cff1c"
      },
      "outputs": [
        {
          "data": {
            "text/html": [
              "<div>\n",
              "<style scoped>\n",
              "    .dataframe tbody tr th:only-of-type {\n",
              "        vertical-align: middle;\n",
              "    }\n",
              "\n",
              "    .dataframe tbody tr th {\n",
              "        vertical-align: top;\n",
              "    }\n",
              "\n",
              "    .dataframe thead th {\n",
              "        text-align: right;\n",
              "    }\n",
              "</style>\n",
              "<table border=\"1\" class=\"dataframe\">\n",
              "  <thead>\n",
              "    <tr style=\"text-align: right;\">\n",
              "      <th></th>\n",
              "      <th>const</th>\n",
              "      <th>TV</th>\n",
              "      <th>Radio</th>\n",
              "      <th>Newspaper</th>\n",
              "    </tr>\n",
              "  </thead>\n",
              "  <tbody>\n",
              "    <tr>\n",
              "      <th>111</th>\n",
              "      <td>1.0</td>\n",
              "      <td>241.7</td>\n",
              "      <td>38.0</td>\n",
              "      <td>23.2</td>\n",
              "    </tr>\n",
              "    <tr>\n",
              "      <th>156</th>\n",
              "      <td>1.0</td>\n",
              "      <td>93.9</td>\n",
              "      <td>43.5</td>\n",
              "      <td>50.5</td>\n",
              "    </tr>\n",
              "    <tr>\n",
              "      <th>140</th>\n",
              "      <td>1.0</td>\n",
              "      <td>73.4</td>\n",
              "      <td>17.0</td>\n",
              "      <td>12.9</td>\n",
              "    </tr>\n",
              "    <tr>\n",
              "      <th>171</th>\n",
              "      <td>1.0</td>\n",
              "      <td>164.5</td>\n",
              "      <td>20.9</td>\n",
              "      <td>47.4</td>\n",
              "    </tr>\n",
              "    <tr>\n",
              "      <th>157</th>\n",
              "      <td>1.0</td>\n",
              "      <td>149.8</td>\n",
              "      <td>1.3</td>\n",
              "      <td>24.3</td>\n",
              "    </tr>\n",
              "  </tbody>\n",
              "</table>\n",
              "</div>"
            ],
            "text/plain": [
              "     const     TV  Radio  Newspaper\n",
              "111    1.0  241.7   38.0       23.2\n",
              "156    1.0   93.9   43.5       50.5\n",
              "140    1.0   73.4   17.0       12.9\n",
              "171    1.0  164.5   20.9       47.4\n",
              "157    1.0  149.8    1.3       24.3"
            ]
          },
          "execution_count": 41,
          "metadata": {},
          "output_type": "execute_result"
        }
      ],
      "source": [
        "X_train.head()"
      ]
    },
    {
      "cell_type": "markdown",
      "id": "460e569a",
      "metadata": {
        "id": "460e569a"
      },
      "source": [
        "#### BUILDING MLR WITH STATSMODEL PACKAGE"
      ]
    },
    {
      "cell_type": "code",
      "execution_count": null,
      "id": "72701751",
      "metadata": {
        "id": "72701751"
      },
      "outputs": [],
      "source": [
        "mod = sm.OLS(y_train, X_train)"
      ]
    },
    {
      "cell_type": "code",
      "execution_count": null,
      "id": "c3d82fc5",
      "metadata": {
        "id": "c3d82fc5",
        "outputId": "5ecc08cc-7256-46cf-8f74-630baf111e06"
      },
      "outputs": [
        {
          "name": "stdout",
          "output_type": "stream",
          "text": [
            "                            OLS Regression Results                            \n",
            "==============================================================================\n",
            "Dep. Variable:                  Sales   R-squared:                       0.915\n",
            "Model:                            OLS   Adj. R-squared:                  0.913\n",
            "Method:                 Least Squares   F-statistic:                     485.1\n",
            "Date:                Wed, 22 Dec 2021   Prob (F-statistic):           2.05e-72\n",
            "Time:                        19:14:11   Log-Likelihood:                -262.48\n",
            "No. Observations:                 140   AIC:                             533.0\n",
            "Df Residuals:                     136   BIC:                             544.7\n",
            "Df Model:                           3                                         \n",
            "Covariance Type:            nonrobust                                         \n",
            "==============================================================================\n",
            "                 coef    std err          t      P>|t|      [0.025      0.975]\n",
            "------------------------------------------------------------------------------\n",
            "const          2.7267      0.350      7.793      0.000       2.035       3.419\n",
            "TV             0.0476      0.002     29.110      0.000       0.044       0.051\n",
            "Radio          0.1842      0.010     18.891      0.000       0.165       0.204\n",
            "Newspaper      0.0049      0.007      0.689      0.492      -0.009       0.019\n",
            "==============================================================================\n",
            "Omnibus:                       56.288   Durbin-Watson:                   2.113\n",
            "Prob(Omnibus):                  0.000   Jarque-Bera (JB):              192.674\n",
            "Skew:                          -1.489   Prob(JB):                     1.45e-42\n",
            "Kurtosis:                       7.915   Cond. No.                         440.\n",
            "==============================================================================\n",
            "\n",
            "Notes:\n",
            "[1] Standard Errors assume that the covariance matrix of the errors is correctly specified.\n"
          ]
        }
      ],
      "source": [
        "print(mod.fit().summary())"
      ]
    },
    {
      "cell_type": "code",
      "execution_count": null,
      "id": "aed30fdd",
      "metadata": {
        "id": "aed30fdd",
        "outputId": "d02d6ae9-35e5-4959-e764-ca8b9ad05634"
      },
      "outputs": [
        {
          "data": {
            "text/plain": [
              "<AxesSubplot:ylabel='Density'>"
            ]
          },
          "execution_count": 44,
          "metadata": {},
          "output_type": "execute_result"
        },
        {
          "data": {
            "image/png": "[encoded data removed]",
            "text/plain": [
              "<Figure size 432x288 with 1 Axes>"
            ]
          },
          "metadata": {
            "needs_background": "light"
          },
          "output_type": "display_data"
        }
      ],
      "source": [
        "mod.fit().resid.plot(kind = 'kde')"
      ]
    },
    {
      "cell_type": "code",
      "execution_count": null,
      "id": "242a6ce0",
      "metadata": {
        "id": "242a6ce0",
        "outputId": "38f9029c-cc2e-49f9-86ca-31b3144b4d3a"
      },
      "outputs": [
        {
          "name": "stderr",
          "output_type": "stream",
          "text": [
            "C:\\Users\\USER\\anaconda3\\lib\\site-packages\\seaborn\\_decorators.py:36: FutureWarning: Pass the following variables as keyword args: x, y. From version 0.12, the only valid positional argument will be `data`, and passing other arguments without an explicit keyword will result in an error or misinterpretation.\n",
            "  warnings.warn(\n"
          ]
        },
        {
          "data": {
            "text/plain": [
              "<AxesSubplot:xlabel='Sales'>"
            ]
          },
          "execution_count": 45,
          "metadata": {},
          "output_type": "execute_result"
        },
        {
          "data": {
            "image/png": "[encoded data removed]",
            "text/plain": [
              "<Figure size 432x288 with 1 Axes>"
            ]
          },
          "metadata": {
            "needs_background": "light"
          },
          "output_type": "display_data"
        }
      ],
      "source": [
        "sns.scatterplot(y,mod.fit().resid)"
      ]
    },
    {
      "cell_type": "markdown",
      "id": "131baa7d",
      "metadata": {
        "id": "131baa7d"
      },
      "source": [
        "#### CHECKING ACCURACY OF THE TRAINING MODEL"
      ]
    },
    {
      "cell_type": "code",
      "execution_count": null,
      "id": "3f20577b",
      "metadata": {
        "id": "3f20577b"
      },
      "outputs": [],
      "source": [
        "from sklearn.metrics import mean_squared_error"
      ]
    },
    {
      "cell_type": "code",
      "execution_count": null,
      "id": "9ded5745",
      "metadata": {
        "id": "9ded5745"
      },
      "outputs": [],
      "source": [
        "mod = sm.OLS(y_train,X_train).fit()"
      ]
    },
    {
      "cell_type": "code",
      "execution_count": null,
      "id": "ba5291a6",
      "metadata": {
        "id": "ba5291a6"
      },
      "outputs": [],
      "source": [
        "pred = mod.predict(X_train)"
      ]
    },
    {
      "cell_type": "code",
      "execution_count": null,
      "id": "9389fe06",
      "metadata": {
        "id": "9389fe06",
        "outputId": "e64dc153-ef2c-4eb2-eb5d-6079b916ebc1"
      },
      "outputs": [
        {
          "data": {
            "text/plain": [
              "2.4889591716315658"
            ]
          },
          "execution_count": 49,
          "metadata": {},
          "output_type": "execute_result"
        }
      ],
      "source": [
        "mean_squared_error(pred,y_train)"
      ]
    },
    {
      "cell_type": "code",
      "execution_count": null,
      "id": "84b7843a",
      "metadata": {
        "id": "84b7843a",
        "outputId": "55a73837-dcf1-43ad-e538-f5dbea985b8c"
      },
      "outputs": [
        {
          "data": {
            "text/plain": [
              "1.5776435502456079"
            ]
          },
          "execution_count": 50,
          "metadata": {},
          "output_type": "execute_result"
        }
      ],
      "source": [
        "np.sqrt(mean_squared_error(pred,y_train))"
      ]
    },
    {
      "cell_type": "markdown",
      "id": "113b8d51",
      "metadata": {
        "id": "113b8d51"
      },
      "source": [
        "#### MLR USING SEABORN"
      ]
    },
    {
      "cell_type": "code",
      "execution_count": null,
      "id": "75f8749f",
      "metadata": {
        "id": "75f8749f"
      },
      "outputs": [],
      "source": [
        "from sklearn.linear_model import LinearRegression"
      ]
    },
    {
      "cell_type": "code",
      "execution_count": null,
      "id": "b99839d2",
      "metadata": {
        "id": "b99839d2"
      },
      "outputs": [],
      "source": [
        "mod = LinearRegression()"
      ]
    },
    {
      "cell_type": "code",
      "execution_count": null,
      "id": "d7553c2a",
      "metadata": {
        "id": "d7553c2a"
      },
      "outputs": [],
      "source": [
        "fit = mod.fit(X_train,y_train)"
      ]
    },
    {
      "cell_type": "code",
      "execution_count": null,
      "id": "947cfac4",
      "metadata": {
        "id": "947cfac4",
        "outputId": "e63929c9-3a4c-4a73-8e5b-9e1d9c4bdbee"
      },
      "outputs": [
        {
          "data": {
            "text/plain": [
              "2.726711695168486"
            ]
          },
          "execution_count": 54,
          "metadata": {},
          "output_type": "execute_result"
        }
      ],
      "source": [
        "fit.intercept_"
      ]
    },
    {
      "cell_type": "code",
      "execution_count": null,
      "id": "cb30d254",
      "metadata": {
        "id": "cb30d254",
        "outputId": "fcaed77d-0531-4aea-8f58-9b7ffba7f2c9"
      },
      "outputs": [
        {
          "data": {
            "text/plain": [
              "array([0.        , 0.04758575, 0.18423586, 0.00491197])"
            ]
          },
          "execution_count": 55,
          "metadata": {},
          "output_type": "execute_result"
        }
      ],
      "source": [
        "fit.coef_"
      ]
    },
    {
      "cell_type": "markdown",
      "id": "fdc5ce83",
      "metadata": {
        "id": "fdc5ce83"
      },
      "source": [
        "### MAIN PROBLEMS IN REGREESION ANALYSIS"
      ]
    },
    {
      "cell_type": "raw",
      "id": "35df622f",
      "metadata": {
        "id": "35df622f"
      },
      "source": [
        "Regression analysis suffers from the following assumptions:\n",
        "    1. Non normality of errors.\n",
        "    solutions :\n",
        "    (i) When error are not normally distributed, we transform the independent variables.\n",
        "    example : log, Power transformation.\n",
        "    (ii) Increase the sample size.\n",
        "    2. Hetroschedacity violation.\n",
        "    When residuals are hetroschedastic, we had to follow a different estimation procedure, This procedure is called as\n",
        "    HAC(Hetroschedacity and autocorrelation consistency estimator).\n",
        "    3. Autocorrelation violation.\n",
        "    solution : OLS should not be used, HAC procedure should be used.\n",
        "    4. If linearity assumption is violated.\n",
        "    solution : we apply polynomial regression, by applying appropriate transformations.\n",
        "    5. Problem of Overfitting.\n",
        "    To solve the problem of overfitting, we use the techinique of regularisation or shrinkage.\n",
        "    There are two ways of regularisation\n",
        "    (i) Lasso(L1)\n",
        "    (ii) Ridge(L2)\n",
        "    Subjctive = Minimise RMSE\n",
        "    Regularisation or shrinkage = Minimise RMSE+lambda(summation 1 to n |bi|)(Lasso) or Minimise RMSE+lambda(summation 1 to n\n",
        "    bi**2)(Ridge); Where lambda (lies in between 0 and 1) -> Learning rate.\n",
        "    Here we penalise the model."
      ]
    },
    {
      "cell_type": "markdown",
      "id": "fe0d2b5b",
      "metadata": {
        "id": "fe0d2b5b"
      },
      "source": [
        "### IMPROVING THE ACCURACY OF LINEAR REGRESSION"
      ]
    },
    {
      "cell_type": "raw",
      "id": "f11aee69",
      "metadata": {
        "id": "f11aee69"
      },
      "source": [
        "-> Creating simple new feature\n",
        "-> Transform the target variable\n",
        "-> clustering common data points\n",
        "-> use of boosting algorithms\n",
        "-> hyperparameter tuning\n",
        "-> normalise your data\n",
        "-> turn categorical data into variables via, e.g., Onehot - Encoding\n",
        "-> Do feature engineering:\n",
        "    Are my features collinear?\n",
        "    Do any of my geatures have cross terms/Higher-order terms?\n",
        "-> regularisation of the features to reduce possible ovefitting\n",
        "-> Look at the alternative modes given the underlying feature the aim of the project"
      ]
    },
    {
      "cell_type": "markdown",
      "id": "01a28e2b",
      "metadata": {
        "id": "01a28e2b"
      },
      "source": [
        "#### SUMMARY OF REGRESSION"
      ]
    },
    {
      "cell_type": "raw",
      "id": "f2a0b534",
      "metadata": {
        "id": "f2a0b534"
      },
      "source": [
        "1. Get data\n",
        "2. Indentify DV's and IV's\n",
        "3. Clean Data : missing, duplicates and outliers\n",
        "4. Train_test split with sklearn\n",
        "5. Initiate the model : LinearRegression(sklearn), OLS(Statsmodels)\n",
        "6. Train the model or train the data\n",
        "7. predict the model on the train data\n",
        "8. Calculate R**2 and RMSE for train data\n",
        "9. Test the model on the test data\n",
        "10. Compare train model RMSE with test model RMSE\n",
        "11. Check the assumption: Normality, hetroschedacity, multicollinearity and autocorrelation\n",
        "12. Do appropriate transformation if assumptions are violated\n",
        "13. If overfitting happens do regularisation"
      ]
    },
    {
      "cell_type": "markdown",
      "id": "394ef815",
      "metadata": {
        "id": "394ef815"
      },
      "source": [
        "## MACHINE LEARNING MASTERY"
      ]
    },
    {
      "cell_type": "code",
      "execution_count": null,
      "id": "c658c33c",
      "metadata": {
        "id": "c658c33c"
      },
      "outputs": [],
      "source": []
    }
  ],
  "metadata": {
    "kernelspec": {
      "display_name": "Python 3",
      "language": "python",
      "name": "python3"
    },
    "language_info": {
      "codemirror_mode": {
        "name": "ipython",
        "version": 3
      },
      "file_extension": ".py",
      "mimetype": "text/x-python",
      "name": "python",
      "nbconvert_exporter": "python",
      "pygments_lexer": "ipython3",
      "version": "3.8.8"
    },
    "colab": {
      "provenance": []
    }
  },
  "nbformat": 4,
  "nbformat_minor": 5
}